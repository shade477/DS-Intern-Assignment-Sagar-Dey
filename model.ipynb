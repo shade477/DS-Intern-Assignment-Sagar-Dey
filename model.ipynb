{
 "cells": [
  {
   "cell_type": "code",
   "execution_count": 6,
   "id": "c37954ee",
   "metadata": {},
   "outputs": [],
   "source": [
    "!conda install --yes --file requirements.txt"
   ]
  },
  {
   "cell_type": "markdown",
   "id": "86ea6637",
   "metadata": {},
   "source": [
    "# Smart Factory Energy Prediction Challenge\n",
    "\n",
    "## Goals:\n",
    "- Analyze the provided sensor data to identify patterns and relationships between environmental factors and equipment energy consumption\n",
    "- Build a robust regression model to predict equipment energy consumption\n",
    "- Evaluate the model's performance using appropriate metrics\n",
    "- Provide actionable insights and recommendations for reducing energy consumption"
   ]
  },
  {
   "cell_type": "code",
   "execution_count": null,
   "id": "8a1f0ce3",
   "metadata": {},
   "outputs": [],
   "source": [
    "# Libraries\n",
    "import pandas as pd\n",
    "import numpy as np\n",
    "import seaborn as sns\n",
    "import matplotlib.pyplot as plt\n",
    "from sklearn.model_selection import train_test_split\n",
    "from sklearn.pipeline import Pipeline\n",
    "from sklearn.compose import ColumnTransformer\n",
    "from sklearn.preprocessing import FunctionTransformer, StandardScaler\n",
    "from sklearn.ensemble import RandomForestRegressor\n",
    "from sklearn.feature_selection import SelectKBest, f_regression\n",
    "from sklearn.linear_model import LinearRegression\n",
    "from sklearn.neighbors import KNeighborsRegressor\n",
    "from sklearn.tree import DecisionTreeRegressor\n",
    "from sklearn.metrics import r2_score, mean_squared_error"
   ]
  },
  {
   "cell_type": "markdown",
   "id": "5575d640",
   "metadata": {},
   "source": [
    "## Data Preprocessing\n",
    "### Importing the Datasets"
   ]
  },
  {
   "cell_type": "code",
   "execution_count": null,
   "id": "27ad71a3",
   "metadata": {},
   "outputs": [],
   "source": [
    "df= pd.read_csv(\"./data/data.csv\", parse_dates=['timestamp'])"
   ]
  },
  {
   "cell_type": "markdown",
   "id": "006e2ada",
   "metadata": {},
   "source": [
    "### Handling missing data"
   ]
  },
  {
   "cell_type": "code",
   "execution_count": null,
   "id": "5198c53a",
   "metadata": {},
   "outputs": [],
   "source": [
    "print(df.isna().sum())"
   ]
  },
  {
   "cell_type": "markdown",
   "id": "eda9746f",
   "metadata": {},
   "source": [
    "#### Data Types\n",
    "\n",
    "**Time-Series**\n",
    "- timestamp\n",
    "\n",
    "**Numeric**\n",
    "- timestamp\n",
    "- equipment_energy_consumption\n",
    "- lighting_energy\n",
    "- zone1_temperature\n",
    "- zone1_humidity\n",
    "- zone2_temperature\n",
    "- zone2_humidity\n",
    "- zone3_temperature\n",
    "- zone3_humidity\n",
    "- zone4_temperature\n",
    "- zone4_humidity\n",
    "- zone5_temperature\n",
    "- zone5_humidity\n",
    "- zone6_temperature\n",
    "- zone6_humidity\n",
    "- zone7_temperature\n",
    "- zone7_humidity\n",
    "- zone8_temperature\n",
    "- zone8_humidity\n",
    "- zone9_temperature\n",
    "- zone9_humidity\n",
    "- outdoor_temperature\n",
    "- atmospheric_pressure\n",
    "- outdoor_humidity\n",
    "- wind_speed\n",
    "- visibility_index\n",
    "- dew_point\n",
    "- random_variable1\n",
    "- random_variable2\n",
    "\n",
    "Since there are no missing values for timestamp filling other columns. Using mean for other numeric data"
   ]
  },
  {
   "cell_type": "code",
   "execution_count": null,
   "id": "9de4e2b8",
   "metadata": {},
   "outputs": [],
   "source": [
    "def verify_df_missing(df, msg):\n",
    "    print(msg)\n",
    "    print(df.isna().sum())"
   ]
  },
  {
   "cell_type": "code",
   "execution_count": null,
   "id": "026a5467",
   "metadata": {},
   "outputs": [],
   "source": [
    "def fillna(df):\n",
    "    # timestamp is sorted first for proper forward-filling\n",
    "    df.sort_values('timestamp', inplace=True)\n",
    "    # Fill all other numeric columns with their mean\n",
    "    numeric_cols = df.select_dtypes(include=[np.number]).columns\n",
    "    df[numeric_cols] = df[numeric_cols].fillna(df[numeric_cols].mean())"
   ]
  },
  {
   "cell_type": "code",
   "execution_count": null,
   "id": "e142d218",
   "metadata": {},
   "outputs": [
    {
     "name": "stdout",
     "output_type": "stream",
     "text": [
      "Missing values after treatment:\n",
      "timestamp                         0\n",
      "equipment_energy_consumption    844\n",
      "lighting_energy                 809\n",
      "zone1_temperature               867\n",
      "zone1_humidity                  801\n",
      "zone2_temperature               853\n",
      "zone2_humidity                    0\n",
      "zone3_temperature                 0\n",
      "zone3_humidity                    0\n",
      "zone4_temperature                 0\n",
      "zone4_humidity                    0\n",
      "zone5_temperature                 0\n",
      "zone5_humidity                    0\n",
      "zone6_temperature                 0\n",
      "zone6_humidity                    0\n",
      "zone7_temperature                 0\n",
      "zone7_humidity                    0\n",
      "zone8_temperature                 0\n",
      "zone8_humidity                    0\n",
      "zone9_temperature                 0\n",
      "zone9_humidity                    0\n",
      "outdoor_temperature               0\n",
      "atmospheric_pressure              0\n",
      "outdoor_humidity                  0\n",
      "wind_speed                        0\n",
      "visibility_index                  0\n",
      "dew_point                         0\n",
      "random_variable1                  0\n",
      "random_variable2                  0\n",
      "dtype: int64\n"
     ]
    }
   ],
   "source": [
    "# Verify results\n",
    "fillna(df)\n",
    "verify_df_missing(df, \"Missing values after treatment:\")"
   ]
  },
  {
   "cell_type": "code",
   "execution_count": null,
   "id": "9506cf03",
   "metadata": {},
   "outputs": [],
   "source": [
    "num_cols = ['equipment_energy_consumption', 'lighting_energy', 'zone1_temperature', 'zone1_humidity', 'zone2_temperature']\n",
    "\n",
    "def column_converter(df: pd.DataFrame):\n",
    "    for col in num_cols:\n",
    "        if col in df.columns:  # Check if column exists\n",
    "            df[col] = pd.to_numeric(df[col], errors='coerce')\n",
    "        else:\n",
    "            print(f\"Warning: Column {col} not found in DataFrame\")\n",
    "\n",
    "column_converter(df, num_cols)\n",
    "fillna(df)\n",
    "verify_df_missing(df, \"Missing values after treatment:\")"
   ]
  }
 ],
 "metadata": {
  "kernelspec": {
   "display_name": "Python 3",
   "language": "python",
   "name": "python3"
  },
  "language_info": {
   "codemirror_mode": {
    "name": "ipython",
    "version": 3
   },
   "file_extension": ".py",
   "mimetype": "text/x-python",
   "name": "python",
   "nbconvert_exporter": "python",
   "pygments_lexer": "ipython3",
   "version": "3.12.10"
  }
 },
 "nbformat": 4,
 "nbformat_minor": 5
}
