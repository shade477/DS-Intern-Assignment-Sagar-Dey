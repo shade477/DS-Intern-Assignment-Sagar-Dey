{
 "cells": [
  {
   "cell_type": "code",
   "execution_count": 6,
   "id": "c37954ee",
   "metadata": {},
   "outputs": [
    {
     "name": "stdout",
     "output_type": "stream",
     "text": [
      "Channels:\n",
      " - conda-forge\n",
      "Platform: linux-64\n",
      "Collecting package metadata (repodata.json): done\n",
      "Solving environment: done\n",
      "\n",
      "\n",
      "==> WARNING: A newer version of conda exists. <==\n",
      "    current version: 25.3.0\n",
      "    latest version: 25.3.1\n",
      "\n",
      "Please update conda by running\n",
      "\n",
      "    $ conda update -n base -c conda-forge conda\n",
      "\n",
      "\n",
      "\n",
      "## Package Plan ##\n",
      "\n",
      "  environment location: /home/shade477/workspace/github.com/shade477/DS-Intern-Assignment-Sagar-Dey/.conda\n",
      "\n",
      "  added / updated specs:\n",
      "    - pandas\n",
      "    - scikit-learn\n",
      "    - seaborn\n",
      "\n",
      "\n",
      "The following NEW packages will be INSTALLED:\n",
      "\n",
      "  brotli             conda-forge/linux-64::brotli-1.1.0-hb9d3cd8_2 \n",
      "  brotli-bin         conda-forge/linux-64::brotli-bin-1.1.0-hb9d3cd8_2 \n",
      "  contourpy          conda-forge/linux-64::contourpy-1.3.2-py312h68727a3_0 \n",
      "  cycler             conda-forge/noarch::cycler-0.12.1-pyhd8ed1ab_1 \n",
      "  fonttools          conda-forge/linux-64::fonttools-4.57.0-py312h178313f_0 \n",
      "  freetype           conda-forge/linux-64::freetype-2.13.3-ha770c72_1 \n",
      "  joblib             conda-forge/noarch::joblib-1.5.0-pyhd8ed1ab_0 \n",
      "  kiwisolver         conda-forge/linux-64::kiwisolver-1.4.8-py312h84d6215_0 \n",
      "  lcms2              conda-forge/linux-64::lcms2-2.17-h717163a_0 \n",
      "  lerc               conda-forge/linux-64::lerc-4.0.0-h0aef613_1 \n",
      "  libbrotlicommon    conda-forge/linux-64::libbrotlicommon-1.1.0-hb9d3cd8_2 \n",
      "  libbrotlidec       conda-forge/linux-64::libbrotlidec-1.1.0-hb9d3cd8_2 \n",
      "  libbrotlienc       conda-forge/linux-64::libbrotlienc-1.1.0-hb9d3cd8_2 \n",
      "  libdeflate         conda-forge/linux-64::libdeflate-1.23-h86f0d12_0 \n",
      "  libfreetype        conda-forge/linux-64::libfreetype-2.13.3-ha770c72_1 \n",
      "  libfreetype6       conda-forge/linux-64::libfreetype6-2.13.3-h48d6fc4_1 \n",
      "  libjpeg-turbo      conda-forge/linux-64::libjpeg-turbo-3.1.0-hb9d3cd8_0 \n",
      "  libpng             conda-forge/linux-64::libpng-1.6.47-h943b412_0 \n",
      "  libtiff            conda-forge/linux-64::libtiff-4.7.0-hd9ff511_4 \n",
      "  libwebp-base       conda-forge/linux-64::libwebp-base-1.5.0-h851e524_0 \n",
      "  libxcb             conda-forge/linux-64::libxcb-1.17.0-h8a09558_0 \n",
      "  matplotlib-base    conda-forge/linux-64::matplotlib-base-3.10.1-py312hd3ec401_0 \n",
      "  munkres            conda-forge/noarch::munkres-1.1.4-pyh9f0ad1d_0 \n",
      "  openjpeg           conda-forge/linux-64::openjpeg-2.5.3-h5fbd93e_0 \n",
      "  patsy              conda-forge/noarch::patsy-1.0.1-pyhd8ed1ab_1 \n",
      "  pillow             conda-forge/linux-64::pillow-11.1.0-py312h80c1187_0 \n",
      "  pthread-stubs      conda-forge/linux-64::pthread-stubs-0.4-hb9d3cd8_1002 \n",
      "  pyparsing          conda-forge/noarch::pyparsing-3.2.3-pyhd8ed1ab_1 \n",
      "  qhull              conda-forge/linux-64::qhull-2020.2-h434a139_5 \n",
      "  scikit-learn       conda-forge/linux-64::scikit-learn-1.6.1-py312h7a48858_0 \n",
      "  scipy              conda-forge/linux-64::scipy-1.15.2-py312ha707e6e_0 \n",
      "  seaborn            conda-forge/noarch::seaborn-0.13.2-hd8ed1ab_3 \n",
      "  seaborn-base       conda-forge/noarch::seaborn-base-0.13.2-pyhd8ed1ab_3 \n",
      "  statsmodels        conda-forge/linux-64::statsmodels-0.14.4-py312hc0a28a1_0 \n",
      "  threadpoolctl      conda-forge/noarch::threadpoolctl-3.6.0-pyhecae5ae_0 \n",
      "  unicodedata2       conda-forge/linux-64::unicodedata2-16.0.0-py312h66e93f0_0 \n",
      "  xorg-libxau        conda-forge/linux-64::xorg-libxau-1.0.12-hb9d3cd8_0 \n",
      "  xorg-libxdmcp      conda-forge/linux-64::xorg-libxdmcp-1.1.5-hb9d3cd8_0 \n",
      "  zstd               conda-forge/linux-64::zstd-1.5.7-hb8e6e7a_2 \n",
      "\n",
      "\n",
      "\n",
      "Downloading and Extracting Packages:\n",
      "\n",
      "Preparing transaction: done\n",
      "Verifying transaction: done\n",
      "Executing transaction: done\n"
     ]
    }
   ],
   "source": [
    "!conda install --yes --file requirements.txt"
   ]
  },
  {
   "cell_type": "markdown",
   "id": "86ea6637",
   "metadata": {},
   "source": [
    "# Smart Factory Energy Prediction Challenge\n",
    "\n",
    "## Goals:\n",
    "- Analyze the provided sensor data to identify patterns and relationships between environmental factors and equipment energy consumption\n",
    "- Build a robust regression model to predict equipment energy consumption\n",
    "- Evaluate the model's performance using appropriate metrics\n",
    "- Provide actionable insights and recommendations for reducing energy consumption"
   ]
  },
  {
   "cell_type": "code",
   "execution_count": null,
   "id": "8a1f0ce3",
   "metadata": {},
   "outputs": [
    {
     "ename": "ModuleNotFoundError",
     "evalue": "No module named 'pandas'",
     "output_type": "error",
     "traceback": [
      "\u001b[31m---------------------------------------------------------------------------\u001b[39m",
      "\u001b[31mModuleNotFoundError\u001b[39m                       Traceback (most recent call last)",
      "\u001b[36mCell\u001b[39m\u001b[36m \u001b[39m\u001b[32mIn[2]\u001b[39m\u001b[32m, line 2\u001b[39m\n\u001b[32m      1\u001b[39m \u001b[38;5;66;03m# Libraries\u001b[39;00m\n\u001b[32m----> \u001b[39m\u001b[32m2\u001b[39m \u001b[38;5;28;01mimport\u001b[39;00m\u001b[38;5;250m \u001b[39m\u001b[34;01mpandas\u001b[39;00m\u001b[38;5;250m \u001b[39m\u001b[38;5;28;01mas\u001b[39;00m\u001b[38;5;250m \u001b[39m\u001b[34;01mpd\u001b[39;00m\n\u001b[32m      3\u001b[39m \u001b[38;5;28;01mimport\u001b[39;00m\u001b[38;5;250m \u001b[39m\u001b[34;01mnumpy\u001b[39;00m\u001b[38;5;250m \u001b[39m\u001b[38;5;28;01mas\u001b[39;00m\u001b[38;5;250m \u001b[39m\u001b[34;01mnp\u001b[39;00m\n\u001b[32m      4\u001b[39m \u001b[38;5;28;01mimport\u001b[39;00m\u001b[38;5;250m \u001b[39m\u001b[34;01mseaborn\u001b[39;00m\u001b[38;5;250m \u001b[39m\u001b[38;5;28;01mas\u001b[39;00m\u001b[38;5;250m \u001b[39m\u001b[34;01msns\u001b[39;00m\n",
      "\u001b[31mModuleNotFoundError\u001b[39m: No module named 'pandas'"
     ]
    }
   ],
   "source": [
    "# Libraries\n",
    "import pandas as pd\n",
    "import numpy as np\n",
    "import seaborn as sns\n",
    "import matplotlib.pyplot as plt\n",
    "from sklearn.model_selection import train_test_split\n",
    "from sklearn.pipeline import Pipeline\n",
    "from sklearn.compose import ColumnTransformer\n",
    "from sklearn.preprocessing import FunctionTransformer, StandardScaler\n",
    "from sklearn.ensemble import RandomForestRegressor\n",
    "from sklearn.feature_selection import SelectKBest, f_regression\n",
    "from sklearn.linear_model import LinearRegression\n",
    "from sklearn.neighbors import KNeighborsRegressor\n",
    "from sklearn.tree import DecisionTreeRegressor\n",
    "from sklearn.metrics import r2_score, mean_squared_error"
   ]
  },
  {
   "cell_type": "code",
   "execution_count": null,
   "id": "62f259cf",
   "metadata": {},
   "outputs": [],
   "source": []
  }
 ],
 "metadata": {
  "kernelspec": {
   "display_name": "Python 3",
   "language": "python",
   "name": "python3"
  },
  "language_info": {
   "codemirror_mode": {
    "name": "ipython",
    "version": 3
   },
   "file_extension": ".py",
   "mimetype": "text/x-python",
   "name": "python",
   "nbconvert_exporter": "python",
   "pygments_lexer": "ipython3",
   "version": "3.12.10"
  }
 },
 "nbformat": 4,
 "nbformat_minor": 5
}
