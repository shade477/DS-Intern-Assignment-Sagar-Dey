{
 "cells": [
  {
   "cell_type": "code",
   "execution_count": 1,
   "id": "c37954ee",
   "metadata": {},
   "outputs": [
    {
     "name": "stdout",
     "output_type": "stream",
     "text": [
      "Channels:\n",
      " - conda-forge\n",
      "Platform: linux-64\n",
      "Collecting package metadata (repodata.json): done\n",
      "Solving environment: done\n",
      "\n",
      "\n",
      "==> WARNING: A newer version of conda exists. <==\n",
      "    current version: 25.3.0\n",
      "    latest version: 25.3.1\n",
      "\n",
      "Please update conda by running\n",
      "\n",
      "    $ conda update -n base -c conda-forge conda\n",
      "\n",
      "\n",
      "\n",
      "# All requested packages already installed.\n",
      "\n"
     ]
    }
   ],
   "source": [
    "!conda install --yes --file requirements.txt"
   ]
  },
  {
   "cell_type": "markdown",
   "id": "86ea6637",
   "metadata": {},
   "source": [
    "# Smart Factory Energy Prediction Challenge\n",
    "\n",
    "## Goals:\n",
    "- Analyze the provided sensor data to identify patterns and relationships between environmental factors and equipment energy consumption\n",
    "- Build a robust regression model to predict equipment energy consumption\n",
    "- Evaluate the model's performance using appropriate metrics\n",
    "- Provide actionable insights and recommendations for reducing energy consumption"
   ]
  },
  {
   "cell_type": "code",
   "execution_count": null,
   "id": "8a1f0ce3",
   "metadata": {},
   "outputs": [],
   "source": [
    "# Libraries\n",
    "import pandas as pd\n",
    "import numpy as np\n",
    "import seaborn as sns\n",
    "import matplotlib.pyplot as plt\n",
    "from sklearn.model_selection import train_test_split\n",
    "from sklearn.pipeline import Pipeline\n",
    "from sklearn.compose import ColumnTransformer\n",
    "from sklearn.preprocessing import FunctionTransformer, StandardScaler\n",
    "from sklearn.ensemble import RandomForestRegressor\n",
    "from sklearn.feature_selection import SelectKBest, f_regression\n",
    "from sklearn.linear_model import LinearRegression\n",
    "from sklearn.neighbors import KNeighborsRegressor\n",
    "from sklearn.tree import DecisionTreeRegressor\n",
    "from sklearn.metrics import r2_score, mean_squared_error"
   ]
  },
  {
   "cell_type": "markdown",
   "id": "5575d640",
   "metadata": {},
   "source": [
    "## Data Preprocessing\n",
    "### Importing the Datasets"
   ]
  },
  {
   "cell_type": "code",
   "execution_count": null,
   "id": "27ad71a3",
   "metadata": {},
   "outputs": [],
   "source": [
    "df= pd.read_csv(\"./data/data.csv\", parse_dates=['timestamp'])"
   ]
  },
  {
   "cell_type": "markdown",
   "id": "006e2ada",
   "metadata": {},
   "source": [
    "### Handling missing data"
   ]
  },
  {
   "cell_type": "code",
   "execution_count": null,
   "id": "5198c53a",
   "metadata": {},
   "outputs": [
    {
     "name": "stdout",
     "output_type": "stream",
     "text": [
      "timestamp                         0\n",
      "equipment_energy_consumption    844\n",
      "lighting_energy                 809\n",
      "zone1_temperature               867\n",
      "zone1_humidity                  801\n",
      "zone2_temperature               853\n",
      "zone2_humidity                  867\n",
      "zone3_temperature               802\n",
      "zone3_humidity                  878\n",
      "zone4_temperature               816\n",
      "zone4_humidity                  781\n",
      "zone5_temperature               838\n",
      "zone5_humidity                  801\n",
      "zone6_temperature               848\n",
      "zone6_humidity                  847\n",
      "zone7_temperature               794\n",
      "zone7_humidity                  805\n",
      "zone8_temperature               848\n",
      "zone8_humidity                  777\n",
      "zone9_temperature               773\n",
      "zone9_humidity                  888\n",
      "outdoor_temperature             806\n",
      "atmospheric_pressure            842\n",
      "outdoor_humidity                799\n",
      "wind_speed                      828\n",
      "visibility_index                815\n",
      "dew_point                       826\n",
      "random_variable1                826\n",
      "random_variable2                824\n",
      "dtype: int64\n"
     ]
    }
   ],
   "source": [
    "print(df.isna().sum())"
   ]
  },
  {
   "cell_type": "markdown",
   "id": "eda9746f",
   "metadata": {},
   "source": [
    "#### Data Types\n",
    "\n",
    "**Time-Series**\n",
    "- timestamp\n",
    "\n",
    "**Numeric**\n",
    "- timestamp\n",
    "- equipment_energy_consumption\n",
    "- lighting_energy\n",
    "- zone1_temperature\n",
    "- zone1_humidity\n",
    "- zone2_temperature\n",
    "- zone2_humidity\n",
    "- zone3_temperature\n",
    "- zone3_humidity\n",
    "- zone4_temperature\n",
    "- zone4_humidity\n",
    "- zone5_temperature\n",
    "- zone5_humidity\n",
    "- zone6_temperature\n",
    "- zone6_humidity\n",
    "- zone7_temperature\n",
    "- zone7_humidity\n",
    "- zone8_temperature\n",
    "- zone8_humidity\n",
    "- zone9_temperature\n",
    "- zone9_humidity\n",
    "- outdoor_temperature\n",
    "- atmospheric_pressure\n",
    "- outdoor_humidity\n",
    "- wind_speed\n",
    "- visibility_index\n",
    "- dew_point\n",
    "- random_variable1\n",
    "- random_variable2\n",
    "\n",
    "Since there are no missing values for timestamp filling other columns. Using mean for other numeric data"
   ]
  },
  {
   "cell_type": "code",
   "execution_count": null,
   "id": "9de4e2b8",
   "metadata": {},
   "outputs": [],
   "source": [
    "def verify_df_missing(df, msg):\n",
    "    print(msg)\n",
    "    print(df.isna().sum())"
   ]
  },
  {
   "cell_type": "code",
   "execution_count": null,
   "id": "026a5467",
   "metadata": {},
   "outputs": [],
   "source": [
    "def fillna(df):\n",
    "    # timestamp is sorted first for proper forward-filling\n",
    "    df.sort_values('timestamp', inplace=True)\n",
    "    # Fill all other numeric columns with their mean\n",
    "    numeric_cols = df.select_dtypes(include=[np.number]).columns\n",
    "    df[numeric_cols] = df[numeric_cols].fillna(df[numeric_cols].mean())"
   ]
  },
  {
   "cell_type": "code",
   "execution_count": null,
   "id": "e142d218",
   "metadata": {},
   "outputs": [
    {
     "name": "stdout",
     "output_type": "stream",
     "text": [
      "Missing values after treatment:\n",
      "timestamp                         0\n",
      "equipment_energy_consumption    844\n",
      "lighting_energy                 809\n",
      "zone1_temperature               867\n",
      "zone1_humidity                  801\n",
      "zone2_temperature               853\n",
      "zone2_humidity                    0\n",
      "zone3_temperature                 0\n",
      "zone3_humidity                    0\n",
      "zone4_temperature                 0\n",
      "zone4_humidity                    0\n",
      "zone5_temperature                 0\n",
      "zone5_humidity                    0\n",
      "zone6_temperature                 0\n",
      "zone6_humidity                    0\n",
      "zone7_temperature                 0\n",
      "zone7_humidity                    0\n",
      "zone8_temperature                 0\n",
      "zone8_humidity                    0\n",
      "zone9_temperature                 0\n",
      "zone9_humidity                    0\n",
      "outdoor_temperature               0\n",
      "atmospheric_pressure              0\n",
      "outdoor_humidity                  0\n",
      "wind_speed                        0\n",
      "visibility_index                  0\n",
      "dew_point                         0\n",
      "random_variable1                  0\n",
      "random_variable2                  0\n",
      "dtype: int64\n"
     ]
    }
   ],
   "source": [
    "# Verify results\n",
    "fillna(df)\n",
    "verify_df_missing(df, \"Missing values after treatment:\")"
   ]
  },
  {
   "cell_type": "code",
   "execution_count": null,
   "id": "9506cf03",
   "metadata": {},
   "outputs": [
    {
     "ename": "TypeError",
     "evalue": "column_converter() takes 1 positional argument but 2 were given",
     "output_type": "error",
     "traceback": [
      "\u001b[31m---------------------------------------------------------------------------\u001b[39m",
      "\u001b[31mTypeError\u001b[39m                                 Traceback (most recent call last)",
      "\u001b[36mCell\u001b[39m\u001b[36m \u001b[39m\u001b[32mIn[14]\u001b[39m\u001b[32m, line 10\u001b[39m\n\u001b[32m      7\u001b[39m         \u001b[38;5;28;01melse\u001b[39;00m:\n\u001b[32m      8\u001b[39m             \u001b[38;5;28mprint\u001b[39m(\u001b[33mf\u001b[39m\u001b[33m\"\u001b[39m\u001b[33mWarning: Column \u001b[39m\u001b[38;5;132;01m{\u001b[39;00mcol\u001b[38;5;132;01m}\u001b[39;00m\u001b[33m not found in DataFrame\u001b[39m\u001b[33m\"\u001b[39m)\n\u001b[32m---> \u001b[39m\u001b[32m10\u001b[39m \u001b[43mcolumn_converter\u001b[49m\u001b[43m(\u001b[49m\u001b[43mdf\u001b[49m\u001b[43m,\u001b[49m\u001b[43m \u001b[49m\u001b[43mnum_cols\u001b[49m\u001b[43m)\u001b[49m\n\u001b[32m     11\u001b[39m fillna(df)\n\u001b[32m     12\u001b[39m verify_df_missing(df, \u001b[33m\"\u001b[39m\u001b[33mMissing values after treatment:\u001b[39m\u001b[33m\"\u001b[39m)\n",
      "\u001b[31mTypeError\u001b[39m: column_converter() takes 1 positional argument but 2 were given"
     ]
    }
   ],
   "source": [
    "num_cols = ['equipment_energy_consumption', 'lighting_energy', 'zone1_temperature', 'zone1_humidity', 'zone2_temperature']\n",
    "\n",
    "def column_converter(df: pd.DataFrame):\n",
    "    for col in num_cols:\n",
    "        if col in df.columns:  # Check if column exists\n",
    "            df[col] = pd.to_numeric(df[col], errors='coerce')\n",
    "        else:\n",
    "            print(f\"Warning: Column {col} not found in DataFrame\")\n",
    "\n",
    "column_converter(df)\n",
    "fillna(df)\n",
    "verify_df_missing(df, \"Missing values after treatment:\")"
   ]
  },
  {
   "cell_type": "code",
   "execution_count": null,
   "id": "6ad82cce",
   "metadata": {},
   "outputs": [],
   "source": [
    "# extract time components\n",
    "df['hour'] = df['timestamp'].dt.hour\n",
    "df['day_of_week'] = df['timestamp'].dt.dayofweek\n",
    "df['month'] = df['timestamp'].dt.month\n",
    "\n",
    "# Create temperature differential features\n",
    "for zone in range(1, 10):\n",
    "    df[f'zone{zone}_temp_diff'] = df[f'zone{zone}_temperature'] - df['outdoor_temperature']\n",
    "\n",
    "# Calculate average zone temperature and humidity\n",
    "df['avg_zone_temp'] = df[[f'zone{i}_temperature' for i in range(1, 10)]].mean(axis=1)\n",
    "df['avg_zone_humidity'] = df[[f'zone{i}_humidity' for i in range(1, 10)]].mean(axis=1)"
   ]
  },
  {
   "cell_type": "markdown",
   "id": "49dafdd7",
   "metadata": {},
   "source": [
    "### Data Description"
   ]
  },
  {
   "cell_type": "code",
   "execution_count": null,
   "id": "015d4c3b",
   "metadata": {},
   "outputs": [],
   "source": [
    "print(df.info())\n",
    "print(df.describe())"
   ]
  },
  {
   "cell_type": "markdown",
   "id": "461ca840",
   "metadata": {},
   "source": [
    "Data description shows impossible values in equipment_energy_consumption i.e. negative values are present trying to use abosolute values."
   ]
  },
  {
   "cell_type": "code",
   "execution_count": null,
   "id": "0ad9379b",
   "metadata": {},
   "outputs": [],
   "source": [
    "negative_cols = ['equipment_energy_consumption', 'lighting_energy', 'zone1_humidity', 'zone2_humidity', 'zone3_humidity', 'zone4_humidity', 'zone5_humidity', 'zone6_humidity', 'zone7_humidity', 'zone8_humidity', 'zone9_humidity']\n",
    "for col in negative_cols:\n",
    "    df[col] = df[col].abs()"
   ]
  },
  {
   "cell_type": "markdown",
   "id": "ec55e7bc",
   "metadata": {},
   "source": [
    "## Exploratory Data Analysis"
   ]
  },
  {
   "cell_type": "code",
   "execution_count": null,
   "id": "2fa99a48",
   "metadata": {},
   "outputs": [],
   "source": [
    "cm = sns.light_palette(\"green\", as_cmap=True)\n",
    "df.head(30).style.background_gradient(cmap=cm)"
   ]
  },
  {
   "cell_type": "markdown",
   "id": "4afa83c5",
   "metadata": {},
   "source": [
    "### Graph 1 - Time Series Plot: Equipment Energy Over Time\n",
    "\n",
    "- Trends: Long-term increases/decreases in energy usage (e.g., seasonal patterns)\n",
    "- Cyclical Patterns: Daily/weekly operational cycles visible as repeating peaks and valleys\n",
    "- Anomalies: Sudden spikes or drops that may indicate equipment issues or measurement errors\n",
    "- Data Gaps: Missing time periods appear as breaks in the line\n",
    "\n",
    "Key Questions It Answers:\n",
    "\n",
    "Are there periods of unusually high/low consumption?\n",
    "\n",
    "Does energy usage follow predictable patterns over time?"
   ]
  },
  {
   "cell_type": "code",
   "execution_count": null,
   "id": "7d26ae21",
   "metadata": {},
   "outputs": [],
   "source": [
    "def energy_consumption_eda(df, timestamp_col='timestamp', energy_col='equipment_energy_consumption'):\n",
    " \n",
    "    sns.set_style(\"whitegrid\")\n",
    "    plt.rcParams['figure.facecolor'] = 'white'\n",
    "    \n",
    "    # Time Series Plot\n",
    "    def plot_time_series():\n",
    "        plt.figure(figsize=(15, 6))\n",
    "        df.set_index(timestamp_col)[energy_col].plot(color='steelblue', linewidth=1)\n",
    "        plt.title(f'{energy_col.replace(\"_\", \" \").title()} Over Time', pad=20)\n",
    "        plt.ylabel('Energy (Wh)')\n",
    "        plt.grid(True, alpha=0.3)\n",
    "        plt.tight_layout()\n",
    "        plt.show()\n",
    "    \n",
    "    # Correlation Analysis\n",
    "    def plot_correlation():\n",
    "        plt.figure(figsize=(10, len(df.columns)//2))  # Dynamic height\n",
    "        corr_matrix = df.corr(numeric_only=True)\n",
    "        sns.heatmap(corr_matrix[[energy_col]].sort_values(\n",
    "            by=energy_col, ascending=False), \n",
    "            annot=True, cmap='coolwarm', center=0,\n",
    "            annot_kws={'size': 9}, cbar_kws={'shrink': 0.8})\n",
    "        plt.title(f'Correlation with {energy_col.replace(\"_\", \" \").title()}', pad=20)\n",
    "        plt.tight_layout()\n",
    "        plt.show()\n",
    "    \n",
    "    plot_time_series()\n",
    "    plot_correlation()"
   ]
  },
  {
   "cell_type": "code",
   "execution_count": null,
   "id": "b3a45762",
   "metadata": {},
   "outputs": [],
   "source": [
    "energy_consumption_eda(df)"
   ]
  },
  {
   "cell_type": "markdown",
   "id": "4d580800",
   "metadata": {},
   "source": [
    "### Graph 1\n",
    "\n",
    "Shows heavy consumption on from midday 2-16 to midday 5-16.\n",
    "\n",
    "### Graph 2\n",
    "\n",
    "The correlation graph indicates which features should be used."
   ]
  },
  {
   "cell_type": "markdown",
   "id": "87a40d66",
   "metadata": {},
   "source": [
    "## Feature Selection\n",
    "\n",
    "The purpose of the model is to predict the energy consumption using environmental factors. Thus taking column 'equipment_energy_consumption' as dependent vector y. Excluding lighting_energy as it is a different dependent vector."
   ]
  },
  {
   "cell_type": "code",
   "execution_count": null,
   "id": "a9b9cc3b",
   "metadata": {},
   "outputs": [],
   "source": [
    "# dp_cols = ['month', 'hour', 'day_of_week', 'lighting_energy', 'random_variable1', 'random_variable2']\n",
    "# dp_cols = ['lighting_energy', 'visibility_index', 'zone4_humidity', 'zone5_humidity', 'zone7_temperature', 'zone8_temperature', 'zone5_temperature', 'zone6_temp_diff', 'month', 'random_variable1', 'random_variable2']\n",
    "dp_cols = ['lighting_energy']\n",
    "df = df.drop(columns=dp_cols).reset_index(drop=True)"
   ]
  },
  {
   "cell_type": "code",
   "execution_count": null,
   "id": "72d5829f",
   "metadata": {},
   "outputs": [],
   "source": [
    "y = df['equipment_energy_consumption']\n",
    "X = df.drop(columns=['equipment_energy_consumption'])"
   ]
  },
  {
   "cell_type": "code",
   "execution_count": null,
   "id": "4b093431",
   "metadata": {},
   "outputs": [],
   "source": [
    "X_train, X_test, y_train, y_test = train_test_split(X, y, test_size=0.2, random_state=42)"
   ]
  },
  {
   "cell_type": "code",
   "execution_count": null,
   "id": "3d03a85a",
   "metadata": {},
   "outputs": [],
   "source": [
    "# Define time feature extractor\n",
    "def extract_time_features(X):\n",
    "    df = pd.DataFrame(X, columns=['timestamp'])\n",
    "    return np.column_stack([\n",
    "        df['timestamp'].dt.hour,\n",
    "        df['timestamp'].dt.dayofweek,\n",
    "        df['timestamp'].dt.month\n",
    "    ])"
   ]
  },
  {
   "cell_type": "markdown",
   "id": "8a0361a5",
   "metadata": {},
   "source": [
    "## Model Building"
   ]
  },
  {
   "cell_type": "markdown",
   "id": "5cd20a46",
   "metadata": {},
   "source": [
    "k = 15\n",
    "\n",
    "Model        RMSE        R²\n",
    "3      RandomForest  162.769622  0.073747\n",
    "2      DecisionTree  165.966089  0.037010\n",
    "0  LinearRegression  167.876149  0.014717\n",
    "1               KNN  171.314964 -0.026062\n",
    "\n",
    "Best model: RandomForest\n",
    "\n",
    "k = 30\n",
    "\n",
    "Model        RMSE        R²\n",
    "3      RandomForest  161.609187  0.086907\n",
    "2      DecisionTree  166.718831  0.028255\n",
    "0  LinearRegression  167.951639  0.013831\n",
    "1               KNN  170.370777 -0.014783\n",
    "\n",
    "Best model: RandomForest\n",
    "\n",
    "k= 20\n",
    "Model        RMSE        R²\n",
    "3      RandomForest  161.931802  0.083258\n",
    "2      DecisionTree  165.929212  0.037438\n",
    "0  LinearRegression  167.912330  0.014292\n",
    "1               KNN  170.302471 -0.013970\n",
    "\n",
    "Best model: RandomForest"
   ]
  },
  {
   "cell_type": "code",
   "execution_count": null,
   "id": "6050e28b",
   "metadata": {},
   "outputs": [],
   "source": [
    "preprocessor = ColumnTransformer([\n",
    "    ('time_features', FunctionTransformer(extract_time_features), ['timestamp']),\n",
    "    ('numeric', 'passthrough', X_train.select_dtypes(include=['number']).columns)\n",
    "])\n",
    "k = 15\n",
    "\n",
    "models = {\n",
    "    'LinearRegression': Pipeline([\n",
    "        ('preprocessor', preprocessor),\n",
    "        ('feature_selection', SelectKBest(f_regression, k=k)),\n",
    "        ('model', LinearRegression())\n",
    "    ]),\n",
    "    'KNN': Pipeline([\n",
    "        ('preprocessor', preprocessor),\n",
    "        ('feature_selection', SelectKBest(f_regression, k=k)),\n",
    "        ('model', KNeighborsRegressor(n_neighbors=5))\n",
    "    ]),\n",
    "    'DecisionTree': Pipeline([\n",
    "        ('preprocessor', preprocessor),\n",
    "        ('feature_selection', SelectKBest(f_regression, k=k)),\n",
    "        ('model', DecisionTreeRegressor(max_depth=5, random_state=42))\n",
    "    ]),\n",
    "    'RandomForest': Pipeline([\n",
    "        ('preprocessor', preprocessor),\n",
    "        ('feature_selection', SelectKBest(f_regression, k=k)),\n",
    "        ('model', RandomForestRegressor(n_estimators=100, random_state=42))\n",
    "    ])\n",
    "}"
   ]
  },
  {
   "cell_type": "code",
   "execution_count": null,
   "id": "7b88928f",
   "metadata": {},
   "outputs": [],
   "source": [
    "results = []\n",
    "for name, pipeline in models.items():\n",
    "    # Train\n",
    "    pipeline.fit(X_train, y_train)\n",
    "    \n",
    "    # Predict\n",
    "    y_pred = pipeline.predict(X_test)\n",
    "    \n",
    "    # Evaluate\n",
    "    rmse = np.sqrt(mean_squared_error(y_test, y_pred))\n",
    "    r2 = r2_score(y_test, y_pred)\n",
    "    \n",
    "    results.append({\n",
    "        'Model': name,\n",
    "        'RMSE': rmse,\n",
    "        'R²': r2\n",
    "    })\n",
    "\n",
    "# 5. Results Comparison\n",
    "results_df = pd.DataFrame(results).sort_values('RMSE')\n",
    "print(results_df)\n",
    "\n",
    "# 6. Best model inspection\n",
    "best_model = models[results_df.iloc[0]['Model']]\n",
    "print(\"\\nBest model:\", results_df.iloc[0]['Model'])"
   ]
  },
  {
   "cell_type": "code",
   "execution_count": null,
   "id": "9467852d",
   "metadata": {},
   "outputs": [],
   "source": [
    "results_df = results_df.sort_values('RMSE', ascending=False)\n",
    "\n",
    "# Create figure\n",
    "plt.figure(figsize=(10, 6))\n",
    "sns.set_style(\"whitegrid\")\n",
    "\n",
    "# Bar plot for RMSE\n",
    "ax = sns.barplot(x='RMSE', y='Model', data=results_df, palette=\"viridis\")\n",
    "plt.title('Model Performance Comparison (Lower RMSE is Better)', pad=20)\n",
    "plt.xlabel('Root Mean Squared Error (RMSE)')\n",
    "plt.ylabel('')\n",
    "\n",
    "# Add value labels\n",
    "for p in ax.patches:\n",
    "    ax.annotate(f\"{p.get_width():.1f}\", \n",
    "               (p.get_width(), p.get_y() + p.get_height()/2),\n",
    "               ha='left', va='center', xytext=(5, 0), textcoords='offset points')\n",
    "\n",
    "plt.tight_layout()\n",
    "plt.show()"
   ]
  },
  {
   "cell_type": "markdown",
   "id": "cfe6e16c",
   "metadata": {},
   "source": [
    "## Visualization"
   ]
  },
  {
   "cell_type": "markdown",
   "id": "40c46779",
   "metadata": {},
   "source": [
    "results_df = results_df.sort_values('RMSE', ascending=False)\n",
    "\n",
    "# Create figure\n",
    "plt.figure(figsize=(10, 6))\n",
    "sns.set_style(\"whitegrid\")\n",
    "\n",
    "# Bar plot for RMSE\n",
    "ax = sns.barplot(x='RMSE', y='Model', data=results_df, palette=\"viridis\")\n",
    "plt.title('Model Performance Comparison (Lower RMSE is Better)', pad=20)\n",
    "plt.xlabel('Root Mean Squared Error (RMSE)')\n",
    "plt.ylabel('')\n",
    "\n",
    "# Add value labels\n",
    "for p in ax.patches:\n",
    "    ax.annotate(f\"{p.get_width():.1f}\", \n",
    "               (p.get_width(), p.get_y() + p.get_height()/2),\n",
    "               ha='left', va='center', xytext=(5, 0), textcoords='offset points')\n",
    "\n",
    "plt.tight_layout()\n",
    "plt.show()"
   ]
  },
  {
   "cell_type": "code",
   "execution_count": null,
   "id": "794bc1ab",
   "metadata": {},
   "outputs": [],
   "source": [
    "plt.figure(figsize=(12, 6))\n",
    "sns.scatterplot(x='R²', y='RMSE', hue='Model', \n",
    "                data=results_df, s=200, palette=\"viridis\")\n",
    "\n",
    "plt.title('Model Comparison: R² vs RMSE', pad=20)\n",
    "plt.axvline(x=0, color='grey', linestyle='--')\n",
    "plt.axhline(y=results_df['RMSE'].mean(), color='grey', linestyle='--')\n",
    "\n",
    "# Annotate points\n",
    "for i, row in results_df.iterrows():\n",
    "    plt.text(x=row['R²']+0.01, y=row['RMSE']+0.5, \n",
    "             s=row['Model'], fontsize=10)\n",
    "\n",
    "plt.tight_layout()\n",
    "plt.show()"
   ]
  }
 ],
 "metadata": {
  "kernelspec": {
   "display_name": "Python 3",
   "language": "python",
   "name": "python3"
  },
  "language_info": {
   "codemirror_mode": {
    "name": "ipython",
    "version": 3
   },
   "file_extension": ".py",
   "mimetype": "text/x-python",
   "name": "python",
   "nbconvert_exporter": "python",
   "pygments_lexer": "ipython3",
   "version": "3.12.10"
  }
 },
 "nbformat": 4,
 "nbformat_minor": 5
}
